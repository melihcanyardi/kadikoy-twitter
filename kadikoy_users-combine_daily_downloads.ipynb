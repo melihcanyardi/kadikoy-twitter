{
 "cells": [
  {
   "cell_type": "code",
   "execution_count": 1,
   "id": "cc45f7e0",
   "metadata": {},
   "outputs": [],
   "source": [
    "import os\n",
    "import shutil"
   ]
  },
  {
   "cell_type": "code",
   "execution_count": 2,
   "id": "105a45e2",
   "metadata": {},
   "outputs": [],
   "source": [
    "filenames = [f\"daily_downloads_kadikoy/{filename}\" for filename in os.listdir(\"daily_downloads_kadikoy/\") if filename.endswith(\"gz\")]"
   ]
  },
  {
   "cell_type": "code",
   "execution_count": 3,
   "id": "3939c1f1",
   "metadata": {},
   "outputs": [
    {
     "data": {
      "text/plain": [
       "['daily_downloads_kadikoy/kadikoy_users-221004_1.txt.gz',\n",
       " 'daily_downloads_kadikoy/kadikoy_users-221004_2.txt.gz',\n",
       " 'daily_downloads_kadikoy/kadikoy_users-221004_3.txt.gz',\n",
       " 'daily_downloads_kadikoy/kadikoy_users-221004_4.txt.gz',\n",
       " 'daily_downloads_kadikoy/kadikoy_users-221004_5.txt.gz',\n",
       " 'daily_downloads_kadikoy/kadikoy_users-221004_6.txt.gz',\n",
       " 'daily_downloads_kadikoy/kadikoy_users-221004_7.txt.gz',\n",
       " 'daily_downloads_kadikoy/kadikoy_users-221004_8.txt.gz',\n",
       " 'daily_downloads_kadikoy/kadikoy_users-221005_3.txt.gz',\n",
       " 'daily_downloads_kadikoy/kadikoy_users-221005_4.txt.gz',\n",
       " 'daily_downloads_kadikoy/kadikoy_users-221005_5.txt.gz',\n",
       " 'daily_downloads_kadikoy/kadikoy_users-221006_3.txt.gz',\n",
       " 'daily_downloads_kadikoy/kadikoy_users-221006_4.txt.gz',\n",
       " 'daily_downloads_kadikoy/kadikoy_users-221006_5.txt.gz',\n",
       " 'daily_downloads_kadikoy/kadikoy_users-221007_3.txt.gz',\n",
       " 'daily_downloads_kadikoy/kadikoy_users-221007_4.txt.gz',\n",
       " 'daily_downloads_kadikoy/kadikoy_users-221008_3.txt.gz',\n",
       " 'daily_downloads_kadikoy/kadikoy_users-221008_4.txt.gz',\n",
       " 'daily_downloads_kadikoy/kadikoy_users-221008_8.txt.gz']"
      ]
     },
     "execution_count": 3,
     "metadata": {},
     "output_type": "execute_result"
    }
   ],
   "source": [
    "filenames"
   ]
  },
  {
   "cell_type": "code",
   "execution_count": 4,
   "id": "739944c6",
   "metadata": {},
   "outputs": [],
   "source": [
    "with open(\"combined/kadikoy_users-221009_combined.txt.gz\", 'wb') as wfp:\n",
    "    for fn in filenames:\n",
    "        with open(fn, 'rb') as rfp:\n",
    "            shutil.copyfileobj(rfp, wfp)"
   ]
  }
 ],
 "metadata": {
  "kernelspec": {
   "display_name": "Python 3 (ipykernel)",
   "language": "python",
   "name": "python3"
  },
  "language_info": {
   "codemirror_mode": {
    "name": "ipython",
    "version": 3
   },
   "file_extension": ".py",
   "mimetype": "text/x-python",
   "name": "python",
   "nbconvert_exporter": "python",
   "pygments_lexer": "ipython3",
   "version": "3.9.7"
  }
 },
 "nbformat": 4,
 "nbformat_minor": 5
}
