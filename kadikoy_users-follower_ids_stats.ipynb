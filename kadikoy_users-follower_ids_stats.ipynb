{
 "cells": [
  {
   "cell_type": "code",
   "execution_count": 1,
   "id": "8911a366",
   "metadata": {},
   "outputs": [],
   "source": [
    "import os\n",
    "from collections import Counter\n",
    "import pandas as pd\n",
    "import matplotlib.pyplot as plt\n",
    "import os"
   ]
  },
  {
   "cell_type": "code",
   "execution_count": 2,
   "id": "aa5691d6",
   "metadata": {},
   "outputs": [],
   "source": [
    "accounts = []\n",
    "follower_ids = []\n",
    "for file in [file for file in os.listdir(\"follower_ids\") if file.endswith(\".txt\")]:\n",
    "    account = file[7:][:-17]\n",
    "    accounts.append(account)\n",
    "    with open(f\"follower_ids/{file}\") as f:    \n",
    "        followers = f.read().split(\"\\n\")\n",
    "    follower_ids.append(followers)"
   ]
  },
  {
   "cell_type": "code",
   "execution_count": 3,
   "id": "36f106c0",
   "metadata": {},
   "outputs": [],
   "source": [
    "all_follower_ids = []\n",
    "\n",
    "for follower_list in follower_ids:\n",
    "    all_follower_ids.extend(follower_list)"
   ]
  },
  {
   "cell_type": "code",
   "execution_count": 4,
   "id": "12c4af2c",
   "metadata": {},
   "outputs": [],
   "source": [
    "df = pd.DataFrame(pd.Series(all_follower_ids).value_counts()).reset_index().rename({\"index\":\"id\", 0:\"follow_count\"}, axis=1)"
   ]
  },
  {
   "cell_type": "code",
   "execution_count": 5,
   "id": "b0a4858d",
   "metadata": {},
   "outputs": [],
   "source": [
    "df[\"follow_percentage\"] = df[\"follow_count\"] / len(os.listdir(\"follower_ids\")) * 100"
   ]
  },
  {
   "cell_type": "code",
   "execution_count": 6,
   "id": "6eebaf3a",
   "metadata": {},
   "outputs": [
    {
     "data": {
      "text/plain": [
       "175"
      ]
     },
     "execution_count": 6,
     "metadata": {},
     "output_type": "execute_result"
    }
   ],
   "source": [
    "len(os.listdir(\"follower_ids\"))"
   ]
  },
  {
   "cell_type": "code",
   "execution_count": 7,
   "id": "571cfd1b",
   "metadata": {
    "scrolled": false
   },
   "outputs": [
    {
     "data": {
      "text/html": [
       "<div>\n",
       "<style scoped>\n",
       "    .dataframe tbody tr th:only-of-type {\n",
       "        vertical-align: middle;\n",
       "    }\n",
       "\n",
       "    .dataframe tbody tr th {\n",
       "        vertical-align: top;\n",
       "    }\n",
       "\n",
       "    .dataframe thead th {\n",
       "        text-align: right;\n",
       "    }\n",
       "</style>\n",
       "<table border=\"1\" class=\"dataframe\">\n",
       "  <thead>\n",
       "    <tr style=\"text-align: right;\">\n",
       "      <th></th>\n",
       "      <th>id</th>\n",
       "      <th>follow_count</th>\n",
       "      <th>follow_percentage</th>\n",
       "    </tr>\n",
       "  </thead>\n",
       "  <tbody>\n",
       "    <tr>\n",
       "      <th>0</th>\n",
       "      <td>1259092089117331461</td>\n",
       "      <td>59</td>\n",
       "      <td>33.714286</td>\n",
       "    </tr>\n",
       "    <tr>\n",
       "      <th>1</th>\n",
       "      <td>84112546</td>\n",
       "      <td>51</td>\n",
       "      <td>29.142857</td>\n",
       "    </tr>\n",
       "    <tr>\n",
       "      <th>2</th>\n",
       "      <td>329232768</td>\n",
       "      <td>48</td>\n",
       "      <td>27.428571</td>\n",
       "    </tr>\n",
       "    <tr>\n",
       "      <th>3</th>\n",
       "      <td>4547192416</td>\n",
       "      <td>39</td>\n",
       "      <td>22.285714</td>\n",
       "    </tr>\n",
       "    <tr>\n",
       "      <th>4</th>\n",
       "      <td>1419322620</td>\n",
       "      <td>37</td>\n",
       "      <td>21.142857</td>\n",
       "    </tr>\n",
       "  </tbody>\n",
       "</table>\n",
       "</div>"
      ],
      "text/plain": [
       "                    id  follow_count  follow_percentage\n",
       "0  1259092089117331461            59          33.714286\n",
       "1             84112546            51          29.142857\n",
       "2            329232768            48          27.428571\n",
       "3           4547192416            39          22.285714\n",
       "4           1419322620            37          21.142857"
      ]
     },
     "execution_count": 7,
     "metadata": {},
     "output_type": "execute_result"
    }
   ],
   "source": [
    "df.head()"
   ]
  },
  {
   "cell_type": "code",
   "execution_count": 8,
   "id": "dab2f796",
   "metadata": {},
   "outputs": [
    {
     "data": {
      "text/html": [
       "<div>\n",
       "<style scoped>\n",
       "    .dataframe tbody tr th:only-of-type {\n",
       "        vertical-align: middle;\n",
       "    }\n",
       "\n",
       "    .dataframe tbody tr th {\n",
       "        vertical-align: top;\n",
       "    }\n",
       "\n",
       "    .dataframe thead th {\n",
       "        text-align: right;\n",
       "    }\n",
       "</style>\n",
       "<table border=\"1\" class=\"dataframe\">\n",
       "  <thead>\n",
       "    <tr style=\"text-align: right;\">\n",
       "      <th></th>\n",
       "      <th>num_accounts</th>\n",
       "      <th>follow_count</th>\n",
       "    </tr>\n",
       "  </thead>\n",
       "  <tbody>\n",
       "    <tr>\n",
       "      <th>0</th>\n",
       "      <td>1</td>\n",
       "      <td>2371273</td>\n",
       "    </tr>\n",
       "    <tr>\n",
       "      <th>1</th>\n",
       "      <td>2</td>\n",
       "      <td>138427</td>\n",
       "    </tr>\n",
       "    <tr>\n",
       "      <th>2</th>\n",
       "      <td>3</td>\n",
       "      <td>41568</td>\n",
       "    </tr>\n",
       "    <tr>\n",
       "      <th>3</th>\n",
       "      <td>4</td>\n",
       "      <td>13846</td>\n",
       "    </tr>\n",
       "    <tr>\n",
       "      <th>4</th>\n",
       "      <td>5</td>\n",
       "      <td>6657</td>\n",
       "    </tr>\n",
       "    <tr>\n",
       "      <th>5</th>\n",
       "      <td>6</td>\n",
       "      <td>3505</td>\n",
       "    </tr>\n",
       "    <tr>\n",
       "      <th>6</th>\n",
       "      <td>7</td>\n",
       "      <td>2039</td>\n",
       "    </tr>\n",
       "    <tr>\n",
       "      <th>7</th>\n",
       "      <td>8</td>\n",
       "      <td>1204</td>\n",
       "    </tr>\n",
       "    <tr>\n",
       "      <th>8</th>\n",
       "      <td>9</td>\n",
       "      <td>784</td>\n",
       "    </tr>\n",
       "    <tr>\n",
       "      <th>9</th>\n",
       "      <td>10</td>\n",
       "      <td>505</td>\n",
       "    </tr>\n",
       "    <tr>\n",
       "      <th>10</th>\n",
       "      <td>11</td>\n",
       "      <td>325</td>\n",
       "    </tr>\n",
       "    <tr>\n",
       "      <th>11</th>\n",
       "      <td>12</td>\n",
       "      <td>191</td>\n",
       "    </tr>\n",
       "    <tr>\n",
       "      <th>12</th>\n",
       "      <td>13</td>\n",
       "      <td>149</td>\n",
       "    </tr>\n",
       "    <tr>\n",
       "      <th>13</th>\n",
       "      <td>14</td>\n",
       "      <td>106</td>\n",
       "    </tr>\n",
       "    <tr>\n",
       "      <th>14</th>\n",
       "      <td>15</td>\n",
       "      <td>81</td>\n",
       "    </tr>\n",
       "    <tr>\n",
       "      <th>15</th>\n",
       "      <td>16</td>\n",
       "      <td>66</td>\n",
       "    </tr>\n",
       "    <tr>\n",
       "      <th>16</th>\n",
       "      <td>17</td>\n",
       "      <td>53</td>\n",
       "    </tr>\n",
       "    <tr>\n",
       "      <th>17</th>\n",
       "      <td>18</td>\n",
       "      <td>34</td>\n",
       "    </tr>\n",
       "    <tr>\n",
       "      <th>18</th>\n",
       "      <td>19</td>\n",
       "      <td>25</td>\n",
       "    </tr>\n",
       "    <tr>\n",
       "      <th>20</th>\n",
       "      <td>20</td>\n",
       "      <td>17</td>\n",
       "    </tr>\n",
       "    <tr>\n",
       "      <th>19</th>\n",
       "      <td>21</td>\n",
       "      <td>17</td>\n",
       "    </tr>\n",
       "    <tr>\n",
       "      <th>21</th>\n",
       "      <td>22</td>\n",
       "      <td>9</td>\n",
       "    </tr>\n",
       "    <tr>\n",
       "      <th>22</th>\n",
       "      <td>23</td>\n",
       "      <td>6</td>\n",
       "    </tr>\n",
       "    <tr>\n",
       "      <th>23</th>\n",
       "      <td>24</td>\n",
       "      <td>6</td>\n",
       "    </tr>\n",
       "    <tr>\n",
       "      <th>26</th>\n",
       "      <td>25</td>\n",
       "      <td>3</td>\n",
       "    </tr>\n",
       "    <tr>\n",
       "      <th>25</th>\n",
       "      <td>26</td>\n",
       "      <td>4</td>\n",
       "    </tr>\n",
       "    <tr>\n",
       "      <th>28</th>\n",
       "      <td>27</td>\n",
       "      <td>2</td>\n",
       "    </tr>\n",
       "    <tr>\n",
       "      <th>24</th>\n",
       "      <td>28</td>\n",
       "      <td>4</td>\n",
       "    </tr>\n",
       "    <tr>\n",
       "      <th>27</th>\n",
       "      <td>29</td>\n",
       "      <td>3</td>\n",
       "    </tr>\n",
       "    <tr>\n",
       "      <th>36</th>\n",
       "      <td>31</td>\n",
       "      <td>1</td>\n",
       "    </tr>\n",
       "    <tr>\n",
       "      <th>29</th>\n",
       "      <td>32</td>\n",
       "      <td>2</td>\n",
       "    </tr>\n",
       "    <tr>\n",
       "      <th>30</th>\n",
       "      <td>34</td>\n",
       "      <td>2</td>\n",
       "    </tr>\n",
       "    <tr>\n",
       "      <th>35</th>\n",
       "      <td>36</td>\n",
       "      <td>1</td>\n",
       "    </tr>\n",
       "    <tr>\n",
       "      <th>31</th>\n",
       "      <td>37</td>\n",
       "      <td>1</td>\n",
       "    </tr>\n",
       "    <tr>\n",
       "      <th>33</th>\n",
       "      <td>39</td>\n",
       "      <td>1</td>\n",
       "    </tr>\n",
       "    <tr>\n",
       "      <th>32</th>\n",
       "      <td>48</td>\n",
       "      <td>1</td>\n",
       "    </tr>\n",
       "    <tr>\n",
       "      <th>34</th>\n",
       "      <td>51</td>\n",
       "      <td>1</td>\n",
       "    </tr>\n",
       "    <tr>\n",
       "      <th>37</th>\n",
       "      <td>59</td>\n",
       "      <td>1</td>\n",
       "    </tr>\n",
       "  </tbody>\n",
       "</table>\n",
       "</div>"
      ],
      "text/plain": [
       "    num_accounts  follow_count\n",
       "0              1       2371273\n",
       "1              2        138427\n",
       "2              3         41568\n",
       "3              4         13846\n",
       "4              5          6657\n",
       "5              6          3505\n",
       "6              7          2039\n",
       "7              8          1204\n",
       "8              9           784\n",
       "9             10           505\n",
       "10            11           325\n",
       "11            12           191\n",
       "12            13           149\n",
       "13            14           106\n",
       "14            15            81\n",
       "15            16            66\n",
       "16            17            53\n",
       "17            18            34\n",
       "18            19            25\n",
       "20            20            17\n",
       "19            21            17\n",
       "21            22             9\n",
       "22            23             6\n",
       "23            24             6\n",
       "26            25             3\n",
       "25            26             4\n",
       "28            27             2\n",
       "24            28             4\n",
       "27            29             3\n",
       "36            31             1\n",
       "29            32             2\n",
       "30            34             2\n",
       "35            36             1\n",
       "31            37             1\n",
       "33            39             1\n",
       "32            48             1\n",
       "34            51             1\n",
       "37            59             1"
      ]
     },
     "execution_count": 8,
     "metadata": {},
     "output_type": "execute_result"
    }
   ],
   "source": [
    "follow_counts = pd.DataFrame(df[\"follow_count\"].value_counts()).reset_index().rename({\"index\": \"num_accounts\"}, axis=1).sort_values(\"num_accounts\")\n",
    "follow_counts"
   ]
  },
  {
   "cell_type": "code",
   "execution_count": 9,
   "id": "1362e180",
   "metadata": {},
   "outputs": [
    {
     "data": {
      "text/plain": [
       "2580920"
      ]
     },
     "execution_count": 9,
     "metadata": {},
     "output_type": "execute_result"
    }
   ],
   "source": [
    "df.shape[0]"
   ]
  },
  {
   "cell_type": "code",
   "execution_count": 10,
   "id": "271f2718",
   "metadata": {},
   "outputs": [
    {
     "data": {
      "text/plain": [
       "209647"
      ]
     },
     "execution_count": 10,
     "metadata": {},
     "output_type": "execute_result"
    }
   ],
   "source": [
    "follow_counts[follow_counts[\"num_accounts\"] > 1][\"follow_count\"].sum()"
   ]
  },
  {
   "cell_type": "code",
   "execution_count": 11,
   "id": "269cf1b8",
   "metadata": {},
   "outputs": [
    {
     "data": {
      "image/png": "[encoded data removed]",
      "text/plain": [
       "<Figure size 1600x1000 with 1 Axes>"
      ]
     },
     "metadata": {
      "needs_background": "light"
     },
     "output_type": "display_data"
    }
   ],
   "source": [
    "plt.figure(figsize=(16, 10), dpi=100)\n",
    "plt.bar(follow_counts[\"num_accounts\"], follow_counts[\"follow_count\"])\n",
    "plt.xticks(follow_counts[\"num_accounts\"])\n",
    "plt.title(\"Follow counts\", fontsize=16)\n",
    "plt.xlabel(\"Number of Accounts\", fontsize=14)\n",
    "plt.ylabel(\"Follow Count\", fontsize=14)\n",
    "plt.show()"
   ]
  },
  {
   "cell_type": "markdown",
   "id": "f9d7fe78",
   "metadata": {},
   "source": [
    "## Split into Batches"
   ]
  },
  {
   "cell_type": "code",
   "execution_count": 12,
   "id": "9e2cc8f6",
   "metadata": {},
   "outputs": [
    {
     "data": {
      "text/plain": [
       "71220"
      ]
     },
     "execution_count": 12,
     "metadata": {},
     "output_type": "execute_result"
    }
   ],
   "source": [
    "user_ids = list(df[df[\"follow_count\"] >= 3][\"id\"])\n",
    "len(user_ids)"
   ]
  },
  {
   "cell_type": "code",
   "execution_count": 13,
   "id": "35a4a012",
   "metadata": {},
   "outputs": [],
   "source": [
    "if \"kadikoy_user_ids\" not in os.listdir():\n",
    "    os.mkdir(\"kadikoy_user_ids\")"
   ]
  },
  {
   "cell_type": "code",
   "execution_count": 14,
   "id": "6dd7a78e",
   "metadata": {},
   "outputs": [
    {
     "name": "stdout",
     "output_type": "stream",
     "text": [
      "Batch No: 1 | 0 - 9000\n",
      "Batch No: 2 | 9000 - 18000\n",
      "Batch No: 3 | 18000 - 27000\n",
      "Batch No: 4 | 27000 - 36000\n",
      "Batch No: 5 | 36000 - 45000\n",
      "Batch No: 6 | 45000 - 54000\n",
      "Batch No: 7 | 54000 - 63000\n",
      "Batch No: 8 | 63000 - 72000\n"
     ]
    }
   ],
   "source": [
    "batch_no = 1\n",
    "\n",
    "for i in range(0, len(user_ids), 9_000):\n",
    "    print(f\"Batch No: {batch_no} | {i} - {i+9_000}\")\n",
    "    \n",
    "    with open(f\"kadikoy_user_ids/kadikoy_user_ids-{batch_no}.txt\", \"w+\") as f:\n",
    "        f.write(\"\\n\".join(user_ids[i:i+10_000]))\n",
    "    \n",
    "    batch_no += 1"
   ]
  }
 ],
 "metadata": {
  "kernelspec": {
   "display_name": "Python 3 (ipykernel)",
   "language": "python",
   "name": "python3"
  },
  "language_info": {
   "codemirror_mode": {
    "name": "ipython",
    "version": 3
   },
   "file_extension": ".py",
   "mimetype": "text/x-python",
   "name": "python",
   "nbconvert_exporter": "python",
   "pygments_lexer": "ipython3",
   "version": "3.9.7"
  }
 },
 "nbformat": 4,
 "nbformat_minor": 5
}
